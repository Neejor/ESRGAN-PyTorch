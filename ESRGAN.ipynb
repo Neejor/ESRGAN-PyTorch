{
 "cells": [
  {
   "cell_type": "code",
   "execution_count": 1,
   "id": "e9e6e37b",
   "metadata": {
    "_cell_guid": "b1076dfc-b9ad-4769-8c92-a6c4dae69d19",
    "_uuid": "8f2839f25d086af736a60e9eeb907d3b93b6e0e5",
    "execution": {
     "iopub.execute_input": "2023-04-12T10:40:03.706026Z",
     "iopub.status.busy": "2023-04-12T10:40:03.705179Z",
     "iopub.status.idle": "2023-04-12T10:40:24.949899Z",
     "shell.execute_reply": "2023-04-12T10:40:24.947751Z"
    },
    "papermill": {
     "duration": 21.25388,
     "end_time": "2023-04-12T10:40:24.954022",
     "exception": false,
     "start_time": "2023-04-12T10:40:03.700142",
     "status": "completed"
    },
    "tags": []
   },
   "outputs": [
    {
     "name": "stdout",
     "output_type": "stream",
     "text": [
      "Cloning into 'ESRGAN-PyTorch'...\r\n",
      "fatal: unable to access 'https://github.com/Lornatang/ESRGAN-PyTorch.git/': Could not resolve host: github.com\r\n"
     ]
    }
   ],
   "source": [
    "!git clone https://github.com/Lornatang/ESRGAN-PyTorch.git"
   ]
  },
  {
   "cell_type": "code",
   "execution_count": null,
   "id": "ab9619b7",
   "metadata": {
    "papermill": {
     "duration": 0.001615,
     "end_time": "2023-04-12T10:40:24.958088",
     "exception": false,
     "start_time": "2023-04-12T10:40:24.956473",
     "status": "completed"
    },
    "tags": []
   },
   "outputs": [],
   "source": []
  }
 ],
 "metadata": {
  "kernelspec": {
   "display_name": "Python 3",
   "language": "python",
   "name": "python3"
  },
  "language_info": {
   "codemirror_mode": {
    "name": "ipython",
    "version": 3
   },
   "file_extension": ".py",
   "mimetype": "text/x-python",
   "name": "python",
   "nbconvert_exporter": "python",
   "pygments_lexer": "ipython3",
   "version": "3.7.12"
  },
  "papermill": {
   "default_parameters": {},
   "duration": 34.810908,
   "end_time": "2023-04-12T10:40:25.886537",
   "environment_variables": {},
   "exception": null,
   "input_path": "__notebook__.ipynb",
   "output_path": "__notebook__.ipynb",
   "parameters": {},
   "start_time": "2023-04-12T10:39:51.075629",
   "version": "2.4.0"
  }
 },
 "nbformat": 4,
 "nbformat_minor": 5
}
