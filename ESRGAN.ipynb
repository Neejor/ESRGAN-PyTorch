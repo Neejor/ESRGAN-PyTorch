{
 "cells": [
  {
   "cell_type": "code",
   "execution_count": 1,
   "id": "2877402f",
   "metadata": {
    "_cell_guid": "b1076dfc-b9ad-4769-8c92-a6c4dae69d19",
    "_uuid": "8f2839f25d086af736a60e9eeb907d3b93b6e0e5",
    "execution": {
     "iopub.execute_input": "2023-04-12T10:44:46.203346Z",
     "iopub.status.busy": "2023-04-12T10:44:46.202954Z",
     "iopub.status.idle": "2023-04-12T10:45:07.425453Z",
     "shell.execute_reply": "2023-04-12T10:45:07.423977Z"
    },
    "papermill": {
     "duration": 21.230171,
     "end_time": "2023-04-12T10:45:07.428687",
     "exception": false,
     "start_time": "2023-04-12T10:44:46.198516",
     "status": "completed"
    },
    "tags": []
   },
   "outputs": [
    {
     "name": "stdout",
     "output_type": "stream",
     "text": [
      "Cloning into 'ESRGAN-PyTorch'...\r\n",
      "fatal: unable to access 'https://github.com/Lornatang/ESRGAN-PyTorch.git/': Could not resolve host: github.com\r\n"
     ]
    }
   ],
   "source": [
    "!git clone https://github.com/Lornatang/ESRGAN-PyTorch.git"
   ]
  },
  {
   "cell_type": "code",
   "execution_count": null,
   "id": "030818f5",
   "metadata": {
    "papermill": {
     "duration": 0.001404,
     "end_time": "2023-04-12T10:45:07.432222",
     "exception": false,
     "start_time": "2023-04-12T10:45:07.430818",
     "status": "completed"
    },
    "tags": []
   },
   "outputs": [],
   "source": []
  }
 ],
 "metadata": {
  "kernelspec": {
   "display_name": "Python 3",
   "language": "python",
   "name": "python3"
  },
  "language_info": {
   "codemirror_mode": {
    "name": "ipython",
    "version": 3
   },
   "file_extension": ".py",
   "mimetype": "text/x-python",
   "name": "python",
   "nbconvert_exporter": "python",
   "pygments_lexer": "ipython3",
   "version": "3.7.12"
  },
  "papermill": {
   "default_parameters": {},
   "duration": 32.06961,
   "end_time": "2023-04-12T10:45:08.156724",
   "environment_variables": {},
   "exception": null,
   "input_path": "__notebook__.ipynb",
   "output_path": "__notebook__.ipynb",
   "parameters": {},
   "start_time": "2023-04-12T10:44:36.087114",
   "version": "2.4.0"
  }
 },
 "nbformat": 4,
 "nbformat_minor": 5
}
